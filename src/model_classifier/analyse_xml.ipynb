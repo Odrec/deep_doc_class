{
 "cells": [
  {
   "cell_type": "code",
   "execution_count": 2,
   "metadata": {},
   "outputs": [
    {
     "name": "stderr",
     "output_type": "stream",
     "text": [
      "Using TensorFlow backend.\n"
     ]
    }
   ],
   "source": [
    "# IMPORTS\n",
    "# PYTHON BUILT-INS\n",
    "import os, sys\n",
    "from os.path import join, dirname, isdir, isfile, basename\n",
    "from time import strftime, time\n",
    "import re, json, csv, itertools, subprocess\n",
    "\n",
    "# SETUP PATHES\n",
    "SRC_PATH  = os.path.split(os.getcwd())[0]\n",
    "if(not(SRC_PATH in sys.path)):\n",
    "    sys.path.append(SRC_PATH)\n",
    "CLASSIFIER_PATH = join(SRC_PATH,\"model_classifier\")\n",
    "if(not(CLASSIFIER_PATH in sys.path)):\n",
    "    sys.path.append(CLASSIFIER_PATH)\n",
    "BOW_PATH = join(SRC_PATH,\"bow_classifier\")\n",
    "if(not(BOW_PATH in sys.path)):\n",
    "    sys.path.append(BOW_PATH)\n",
    "FEATURE_PATH = join(SRC_PATH,\"features\")\n",
    "if(not(FEATURE_PATH in sys.path)):\n",
    "    sys.path.append(FEATURE_PATH)\n",
    "DEEP_DOC_PATH = \"/home/kai/Workspace/deep_doc_class/deep_doc_class\"\n",
    "DATA_PATH = join(DEEP_DOC_PATH, \"data\")\n",
    "RESULT_PATH = join(DEEP_DOC_PATH,\"results\")\n",
    "FILES_PATH = join(DATA_PATH, \"pdf_files\")\n",
    "\n",
    "# OWN PACKAGES\n",
    "from bow_classifier import *\n",
    "from classify import *\n",
    "from Keras_Dense_MLP import Keras_Dense_MLP\n",
    "\n",
    "# STANDART MACHINE LEARNING\n",
    "import numpy as np\n",
    "import pandas as pd\n",
    "from sklearn.externals import joblib\n",
    "from sklearn.feature_extraction.text import TfidfVectorizer\n",
    "from sklearn.linear_model import LogisticRegression\n",
    "from sklearn.ensemble import RandomForestClassifier\n",
    "from sklearn.tree import DecisionTreeClassifier, export_graphviz\n",
    "from sklearn.svm import SVC\n",
    "from sklearn.metrics import accuracy_score, f1_score, fbeta_score, precision_score, recall_score, classification_report, confusion_matrix, precision_recall_curve, roc_curve, auc, average_precision_score\n",
    "from sklearn.model_selection import RandomizedSearchCV, train_test_split\n",
    "\n",
    "# VISUALIZATION\n",
    "import matplotlib.pyplot as plt\n",
    "import pydotplus \n",
    "from IPython.display import Image\n",
    "\n",
    "cat_id_to_des = {\n",
    "    1:\"scanned\",\n",
    "    2:\"scanned_max2p\",\n",
    "    3:\"paper_style\",\n",
    "    4:\"book_style\",\n",
    "    5:\"official\",\n",
    "    6:\"powerpoint_slides\",\n",
    "    7:\"other_slides\",\n",
    "    8:\"course_material\",\n",
    "    9:\"course_material_scanned\",\n",
    "    10:\"official_style_course_mater\",\n",
    "    11:\"handwritten\",\n",
    "    12:\"pw_protected\",\n",
    "    13:\"unsure\"\n",
    "}"
   ]
  },
  {
   "cell_type": "code",
   "execution_count": 15,
   "metadata": {},
   "outputs": [
    {
     "name": "stdout",
     "output_type": "stream",
     "text": [
      "1\n",
      "2\n",
      "3\n",
      "4\n",
      "5\n",
      "6\n",
      "7\n",
      "8\n",
      "9\n",
      "10\n",
      "11\n",
      "12\n",
      "13\n"
     ]
    }
   ],
   "source": [
    "# LOAD DATA\n",
    "man_class_file = join(DATA_PATH,\"classification_with_category.csv\")\n",
    "man_class = pd.read_csv(man_class_file, delimiter=',', header=0, quoting=1)\n",
    "man_class = man_class.set_index(\"doc_id\")\n",
    "\n",
    "struc_file = join(DATA_PATH,\"pre_extracted_data\",\"xml_text_structure.json\")\n",
    "struc_data = pd.read_json(struc_file, orient='index')\n",
    "\n",
    "mean_df = pd.DataFrame(columns=list(struc_data))\n",
    "tmp_df = struc_data.mean()\n",
    "tmp_df.name = \"total\"\n",
    "mean_df = mean_df.append(tmp_df)"
   ]
  },
  {
   "cell_type": "code",
   "execution_count": null,
   "metadata": {
    "collapsed": true
   },
   "outputs": [],
   "source": [
    "for cat, group in man_class.groupby(\"category\"):\n",
    "    print(cat)\n",
    "    doc_ids = group.index.tolist()\n",
    "    group_data = struc_data.loc[doc_ids]\n",
    "    tmp_df = group_data.mean()\n",
    "    tmp_df.name = cat_id_to_des[cat]\n",
    "    mean_df = mean_df.append(tmp_df)"
   ]
  },
  {
   "cell_type": "code",
   "execution_count": 18,
   "metadata": {},
   "outputs": [
    {
     "name": "stdout",
     "output_type": "stream",
     "text": [
      "max_blockstyle_columns_pp\n",
      "max_textbox_columns_pp\n",
      "min_blockstyle_columns_pp\n",
      "min_textbox_columns_pp\n",
      "modal_blockstyle_columns_pp\n",
      "modal_textbox_columns_pp\n",
      "perc_modal_blockstyle_columns_pp\n",
      "perc_modal_textbox_columns_pp\n"
     ]
    }
   ],
   "source": [
    "for c in list(mean_df):\n",
    "    if(\"columns\" in c):\n",
    "        print(c)"
   ]
  },
  {
   "cell_type": "code",
   "execution_count": 19,
   "metadata": {},
   "outputs": [
    {
     "name": "stdout",
     "output_type": "stream",
     "text": [
      "total                          1.017692\n",
      "scanned                        0.070866\n",
      "scanned_max2p                  0.085366\n",
      "paper_style                    1.517483\n",
      "book_style                     0.948276\n",
      "official                       1.216216\n",
      "powerpoint_slides              1.045635\n",
      "other_slides                   0.994709\n",
      "course_material                1.325411\n",
      "course_material_scanned        0.000000\n",
      "official_style_course_mater    0.982759\n",
      "handwritten                    0.068182\n",
      "pw_protected                   0.000000\n",
      "unsure                         0.963636\n",
      "Name: modal_textbox_columns_pp, dtype: float64\n"
     ]
    }
   ],
   "source": [
    "print(mean_df[\"modal_textbox_columns_pp\"])"
   ]
  },
  {
   "cell_type": "code",
   "execution_count": null,
   "metadata": {
    "scrolled": false
   },
   "outputs": [
    {
     "name": "stdout",
     "output_type": "stream",
     "text": [
      "paper_style\n",
      "925f3d0e3d12f9b07197ceda6c8376db\n",
      "1\n",
      "\n",
      "993070b24b93d19305abb85e07f4921c\n",
      "1\n"
     ]
    }
   ],
   "source": [
    "def show_document(filename):\n",
    "    args = [\"evince\", \"--fullscreen\", filename]\n",
    "    plot = subprocess.Popen(args, stdout=subprocess.PIPE, stderr=subprocess.PIPE)\n",
    "    return\n",
    "\n",
    "for cat, group in man_class.groupby(\"category\"):\n",
    "    doc_ids = group.index.tolist()\n",
    "    if(cat_id_to_des[cat]==\"paper_style\"):\n",
    "        print(cat_id_to_des[cat])\n",
    "        for d_id in doc_ids:\n",
    "            if(not(struc_data.loc[d_id][\"modal_textbox_columns_pp\"]>1)):\n",
    "                f_path = join(FILES_PATH,d_id+\".pdf\")\n",
    "                print(d_id)\n",
    "                print(struc_data.loc[d_id][\"modal_textbox_columns_pp\"])\n",
    "                show_document(f_path)\n",
    "                con = input()\n",
    "                if(con==\"n\"):\n",
    "                    break\n",
    "                else:\n",
    "                    continue\n",
    "        break"
   ]
  },
  {
   "cell_type": "code",
   "execution_count": null,
   "metadata": {
    "collapsed": true
   },
   "outputs": [],
   "source": []
  }
 ],
 "metadata": {
  "kernelspec": {
   "display_name": "Python 3",
   "language": "python",
   "name": "python3"
  },
  "language_info": {
   "codemirror_mode": {
    "name": "ipython",
    "version": 3
   },
   "file_extension": ".py",
   "mimetype": "text/x-python",
   "name": "python",
   "nbconvert_exporter": "python",
   "pygments_lexer": "ipython3",
   "version": "3.5.2"
  }
 },
 "nbformat": 4,
 "nbformat_minor": 2
}
