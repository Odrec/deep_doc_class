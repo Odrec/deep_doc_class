{
 "cells": [
  {
   "cell_type": "code",
   "execution_count": 1,
   "metadata": {
    "collapsed": true
   },
   "outputs": [],
   "source": [
    "# IMPORTS\n",
    "import os, sys\n",
    "from os.path import join, dirname, isdir, isfile, basename\n",
    "\n",
    "SRC_PATH  = os.path.split(os.getcwd())[0]\n",
    "if(not(SRC_PATH in sys.path)):\n",
    "    sys.path.append(SRC_PATH)\n",
    "CLASSIFIER_PATH = join(SRC_PATH,\"model_classifier\")\n",
    "if(not(CLASSIFIER_PATH in sys.path)):\n",
    "    sys.path.append(CLASSIFIER_PATH)\n",
    "BOW_PATH = join(SRC_PATH,\"bow_classifier\")\n",
    "if(not(BOW_PATH in sys.path)):\n",
    "    sys.path.append(BOW_PATH)\n",
    "    \n",
    "from bow_classifier import *\n",
    "from classify import *\n",
    "from Random_Forest import Random_Forest\n",
    "from Logistic_Regression import Logistic_Regression\n",
    "\n",
    "import numpy as np\n",
    "import pandas as pd\n",
    "from sklearn.feature_extraction.text import TfidfVectorizer\n",
    "from sklearn.linear_model import LogisticRegression\n",
    "from sklearn.ensemble import RandomForestClassifier\n",
    "from sklearn.metrics import accuracy_score, f1_score, precision_score, recall_score, classification_report\n",
    "from sklearn.metrics import confusion_matrix, precision_recall_curve, roc_curve, auc\n",
    "from sklearn.tree import export_graphviz\n",
    "\n",
    "import matplotlib.pyplot as plt\n",
    "import itertools\n",
    "import re, json, csv\n",
    "\n",
    "import pydotplus \n",
    "from IPython.display import Image"
   ]
  },
  {
   "cell_type": "code",
   "execution_count": 3,
   "metadata": {},
   "outputs": [],
   "source": [
    "# LOAD DATA\n",
    "man_class_file = \"/home/kai/Workspace/deep_doc_class/deep_doc_class/data/classification_with_category.csv\"\n",
    "man_class = pd.read_csv(man_class_file, delimiter=',', header=0, quoting=1)\n",
    "\n",
    "train_doc_ids = list(man_class[man_class[\"train_doc\"]==True][\"doc_id\"])\n",
    "train_labels = list(man_class[man_class[\"train_doc\"]==True][\"class\"])\n",
    "\n",
    "test_doc_ids = list(man_class[man_class[\"train_doc\"]==False][\"doc_id\"])\n",
    "test_labels = list(man_class[man_class[\"train_doc\"]==False][\"class\"])\n",
    "\n",
    "features = [\"filename\",\n",
    "            \"folder_name\",\n",
    "            \"creator\",\n",
    "            \"producer\",\n",
    "            \"bold_text\",\n",
    "            \"first_100_words\",\n",
    "            \"last_100_words\"]\n",
    "\n",
    "#train_doc_ids, train_labels = remove_bad_doc_ids(train_doc_ids, train_labels, false_docs+xml_error)\n",
    "#test_doc_ids, test_labels = remove_bad_doc_ids(test_doc_ids, test_labels, false_docs+xml_error)\n",
    "\n",
    "bc = BowClassifier(\"first_100_words\")\n",
    "clean_train_strings = bc.load_clean_data(train_doc_ids)\n",
    "clean_test_strings = bc.load_clean_data(test_doc_ids)"
   ]
  },
  {
   "cell_type": "code",
   "execution_count": 4,
   "metadata": {},
   "outputs": [
    {
     "name": "stdout",
     "output_type": "stream",
     "text": [
      "41030\n"
     ]
    }
   ],
   "source": [
    "# VECTORIZE DATA\n",
    "def load_custom_words(wordspath):\n",
    "    f = open(wordspath, 'r')\n",
    "    words = f.read()\n",
    "    f.close()\n",
    "    vocab = re.split(\"\\s\",words)\n",
    "    vocab = re.sub(\"\\s\",\" \",words)\n",
    "    vocab = vocab.split()\n",
    "    return vocab\n",
    "\n",
    "#count_vec = CountVectorizer(analyzer='word',token_pattern=r'(?u)\\b\\w\\w\\w+\\b|©')\n",
    "fidf_vec = TfidfVectorizer(token_pattern=r'(?u)\\b\\w\\w\\w+\\b|©', min_df=1)\n",
    "#custom_vec = CountVectorizer(vocabulary=load_custom_words(join(BOW_PATH,\"words\",bc.name+\".txt\")))\n",
    "\n",
    "vectorizer = fidf_vec\n",
    "vectorizer.fit(clean_train_strings)\n",
    "\n",
    "train_data = vectorizer.transform(clean_train_strings).toarray()\n",
    "test_data = vectorizer.transform(clean_test_strings).toarray()\n",
    "\n",
    "feature_names = vectorizer.get_feature_names()\n",
    "print(len(feature_names))"
   ]
  },
  {
   "cell_type": "code",
   "execution_count": 5,
   "metadata": {
    "collapsed": true
   },
   "outputs": [],
   "source": [
    "# FOREST\n",
    "kwargs = {\"n_estimators\":1, \"criterion\":'entropy', \"max_depth\":30, \"min_samples_split\":2,\n",
    "          \"min_samples_leaf\":5, \"min_weight_fraction_leaf\":0.0, \"max_features\":len(feature_names),\n",
    "          \"max_leaf_nodes\":None, \"min_impurity_split\":1e-07, \"bootstrap\":False,\n",
    "          \"oob_score\":False, \"n_jobs\":1, \"random_state\":None, \"verbose\":0, \"warm_start\":False,\n",
    "          \"class_weight\":None}\n",
    "rf = Random_Forest(**kwargs)"
   ]
  },
  {
   "cell_type": "code",
   "execution_count": 6,
   "metadata": {
    "collapsed": true
   },
   "outputs": [],
   "source": [
    "# LOGISTIC REGRESSION\n",
    "kwargs = {\"penalty\":'l2', \"C\":100, \"fit_intercept\":True, \"intercept_scaling\":1, \"class_weight\":\"balanced\",\n",
    "          \"solver\":\"liblinear\", \"max_iter\":10, \"tol\":0.01}\n",
    "lr = Logistic_Regression(**kwargs)"
   ]
  },
  {
   "cell_type": "code",
   "execution_count": 7,
   "metadata": {},
   "outputs": [
    {
     "name": "stdout",
     "output_type": "stream",
     "text": [
      "train_acc: 0.966\n",
      "total: 496\n",
      "copyright: 155\n",
      "not_protected: 0\n",
      "auc_roc: 0.818\n",
      "auc_pr: 0.484\n",
      "acc: 0.851\n",
      "f1: 0.753\n",
      "precision: 0.779\n",
      "recall: 0.729\n"
     ]
    },
    {
     "data": {
      "image/png": "[encoded data removed]",
      "text/plain": [
       "<matplotlib.figure.Figure at 0x7fa404281240>"
      ]
     },
     "metadata": {},
     "output_type": "display_data"
    },
    {
     "name": "stdout",
     "output_type": "stream",
     "text": [
      "2014                                    -16.84255\n",
      "2016                                    -14.37711\n",
      "prof                                    -11.38466\n",
      "osnabrück                               -10.14557\n",
      "seminar                                 -9.97030\n",
      "2015                                    -8.97901\n",
      "universität                             -8.95058\n",
      "sie                                     -8.91554\n",
      "einführung                              -8.67438\n",
      "gliederung                              -8.35001\n",
      "fall                                    -8.15354\n",
      "bgb                                     -7.98610\n",
      "art                                     -7.84472\n",
      "vorlesung                               -7.84381\n",
      "was                                     -7.59926\n",
      "thema                                   -7.45948\n",
      "uos                                     -7.12341\n",
      "aufgabe                                 -7.02986\n",
      "der                                     -6.95508\n",
      "dass                                    -6.45971\n",
      "definition                              -6.28258\n",
      "university                              6.19512\n",
      "für                                     -5.81669\n",
      "grundlagen                              -5.79631\n",
      "beispiel                                -5.77708\n",
      "fragen                                  -5.73482\n",
      "literatur                               -5.66320\n",
      "del                                     -5.66172\n",
      "das                                     -5.64039\n",
      "sitzung                                 -5.59775\n",
      "©                                       5.56673\n",
      "department                              5.53196\n",
      "ist                                     -5.51901\n",
      "introduction                            -5.49562\n",
      "bzw                                     -5.41946\n",
      "how                                     -5.40440\n",
      "iii                                     -5.37696\n",
      "what                                    -5.24498\n",
      "die                                     -5.13848\n",
      "100                                     -5.06481\n",
      "sekundarstufe                           5.03092\n",
      "übung                                   -4.99623\n",
      "abstract                                4.95138\n",
      "case                                    -4.76401\n",
      "this                                    4.74997\n",
      "article                                 4.73658\n",
      "xml_error                               -4.72762\n",
      "vergleich                               -4.68151\n",
      "language                                -4.61040\n",
      "the                                     -4.60198\n",
      "med                                     4.58771\n",
      "conflict                                -4.56644\n",
      "development                             4.56327\n",
      "name                                    -4.55738\n",
      "weig                                    4.54251\n",
      "data                                    -4.50191\n",
      "methoden                                -4.47611\n",
      "masterstudiengang                       4.41185\n",
      "teil                                    -4.40438\n",
      "published                               4.38806\n",
      "gruppe                                  -4.38361\n",
      "uni                                     -4.29710\n",
      "wintersemester                          -4.28309\n",
      "wolfgang                                4.27791\n",
      "session                                 -4.26868\n",
      "integration                             -4.26097\n",
      "durch                                   -4.24550\n",
      "anzahl                                  -4.22221\n",
      "wie                                     -4.20976\n",
      "beobachten                              4.18440\n",
      "homework                                -4.17854\n",
      "variable                                -4.17045\n",
      "table                                   -4.17018\n",
      "presentation                            -4.16318\n",
      "uhr                                     -4.15213\n",
      "lehrenden                               4.14242\n",
      "course                                  -4.13411\n",
      "julia                                   -4.13069\n",
      "ich                                     -4.10328\n",
      "verschiedenen                           -4.07499\n",
      "science                                 -4.05017\n",
      "questions                               -4.02168\n",
      "veranstaltung                           -3.94590\n",
      "lösung                                  -3.94535\n",
      "sus                                     -3.92788\n",
      "person                                  -3.92688\n",
      "übersicht                               -3.92344\n",
      "interpretation                          -3.91726\n",
      "000                                     -3.90921\n",
      "punkte                                  -3.90264\n",
      "theologie                               -3.89318\n",
      "beispiele                               -3.86410\n",
      "überblick                               -3.86291\n",
      "klasse                                  -3.83242\n",
      "modell                                  -3.83030\n",
      "doi                                     3.82998\n",
      "zellen                                  -3.82433\n",
      "cognitive                               -3.76136\n",
      "dozentin                                -3.73836\n",
      "schneesport                             3.73028\n",
      "\n"
     ]
    }
   ],
   "source": [
    "# CLASSIFY\n",
    "classifier = lr\n",
    "classifier.train(train_data, train_labels)\n",
    "\n",
    "#classifier.model = joblib.load(join(BOW_PATH,\"custom_log_reg\",bc.name+\".pkl\"))\n",
    "\n",
    "probs = classifier.predict_proba_binary(train_data)\n",
    "preds = probs>0.5\n",
    "\n",
    "print(\"train_acc: %.3f\"%(accuracy_score(train_labels,preds),))\n",
    "\n",
    "probs = classifier.predict_proba_binary(test_data)\n",
    "preds = probs>0.5\n",
    "\n",
    "print(\"total: %d\"%(len(test_labels),))\n",
    "print(\"copyright: %d\"%(np.sum(test_labels),))\n",
    "print(\"not_protected: %d\"%(np.sum(test_labels==0),))\n",
    "\n",
    "fpr, tpr, thresholds = roc_curve(test_labels, preds)\n",
    "precision, recall, thresholds = precision_recall_curve(test_labels, preds)\n",
    "\n",
    "print(\"auc_roc: %.3f\"%(auc(fpr, tpr),))\n",
    "print(\"auc_pr: %.3f\"%(auc(precision, recall),))\n",
    "print(\"acc: %.3f\"%(accuracy_score(test_labels,preds),))\n",
    "print(\"f1: %.3f\"%(f1_score(test_labels,preds),))\n",
    "print(\"precision: %.3f\"%(precision_score(test_labels,preds),))\n",
    "print(\"recall: %.3f\"%(recall_score(test_labels,preds),))\n",
    "plot_confusion_matrix(confusion_matrix(test_labels,preds),[\"not_protected\",\"copyright\"],True)\n",
    "\n",
    "top_100_words = analyse_feature_ranking(classifier, feature_names, 100)\n",
    "print(top_100_words)"
   ]
  },
  {
   "cell_type": "code",
   "execution_count": 31,
   "metadata": {},
   "outputs": [
    {
     "ename": "IndexError",
     "evalue": "list index out of range",
     "output_type": "error",
     "traceback": [
      "\u001b[0;31m---------------------------------------------------------------------------\u001b[0m",
      "\u001b[0;31mIndexError\u001b[0m                                Traceback (most recent call last)",
      "\u001b[0;32m<ipython-input-31-014519ce5a4d>\u001b[0m in \u001b[0;36m<module>\u001b[0;34m()\u001b[0m\n\u001b[0;32m----> 1\u001b[0;31m \u001b[0mtree\u001b[0m \u001b[0;34m=\u001b[0m \u001b[0mrf\u001b[0m\u001b[0;34m.\u001b[0m\u001b[0mmodel\u001b[0m\u001b[0;34m.\u001b[0m\u001b[0mestimators_\u001b[0m\u001b[0;34m[\u001b[0m\u001b[0;36m0\u001b[0m\u001b[0;34m]\u001b[0m\u001b[0;34m\u001b[0m\u001b[0m\n\u001b[0m\u001b[1;32m      2\u001b[0m dot_data = export_graphviz(tree, out_file=None, \n\u001b[1;32m      3\u001b[0m                          \u001b[0mfeature_names\u001b[0m\u001b[0;34m=\u001b[0m\u001b[0mfeature_names\u001b[0m\u001b[0;34m,\u001b[0m\u001b[0;34m\u001b[0m\u001b[0m\n\u001b[1;32m      4\u001b[0m                          \u001b[0mclass_names\u001b[0m\u001b[0;34m=\u001b[0m\u001b[0;34m[\u001b[0m\u001b[0;34m\"not_protected\"\u001b[0m\u001b[0;34m,\u001b[0m \u001b[0;34m\"copyright\"\u001b[0m\u001b[0;34m]\u001b[0m\u001b[0;34m,\u001b[0m\u001b[0;34m\u001b[0m\u001b[0m\n\u001b[1;32m      5\u001b[0m                          \u001b[0mfilled\u001b[0m\u001b[0;34m=\u001b[0m\u001b[0;32mTrue\u001b[0m\u001b[0;34m,\u001b[0m \u001b[0mrounded\u001b[0m\u001b[0;34m=\u001b[0m\u001b[0;32mTrue\u001b[0m\u001b[0;34m,\u001b[0m\u001b[0;34m\u001b[0m\u001b[0m\n",
      "\u001b[0;31mIndexError\u001b[0m: list index out of range"
     ]
    }
   ],
   "source": [
    "tree = rf.model.estimators_[0]\n",
    "dot_data = export_graphviz(tree, out_file=None, \n",
    "                         feature_names=feature_names,  \n",
    "                         class_names=[\"not_protected\", \"copyright\"],  \n",
    "                         filled=True, rounded=True,  \n",
    "                         special_characters=True)  \n",
    "graph = pydotplus.graph_from_dot_data(dot_data)  \n",
    "Image(graph.create_png())  \n"
   ]
  },
  {
   "cell_type": "code",
   "execution_count": 81,
   "metadata": {},
   "outputs": [
    {
     "name": "stderr",
     "output_type": "stream",
     "text": [
      "/home/kai/venvs/doc/lib/python3.5/site-packages/sklearn/linear_model/sag.py:286: ConvergenceWarning: The max_iter was reached which means the coef_ did not converge\n",
      "  \"the coef_ did not converge\", ConvergenceWarning)\n"
     ]
    }
   ],
   "source": [
    "# PARAMETER COMBINATION\n",
    "classifier = lr\n",
    "comb_param_names = [\"solver\",\"C\",\"max_iter\",\"class_weight\"]\n",
    "comb_param_vals = [[\"sag\",\"liblinear\"],[1,10,100,500],[5,10,100],[None,\"balanced\"]]\n",
    "\n",
    "if(not(isdir(join(BOW_PATH,\"eval_results\",bc.name)))):\n",
    "    os.makedirs(join(BOW_PATH,\"eval_results\",bc.name))\n",
    "results_file=join(BOW_PATH,\"eval_results\",bc.name,\"logreg_tfidf_s_c_mi_cw.txt\")\n",
    "results = compare_parameter_combinations_bin(classifier, comb_param_names, comb_param_vals, train_data, train_labels,\n",
    "                                             test_data, test_labels, results_file=results_file, save_model=False)"
   ]
  },
  {
   "cell_type": "code",
   "execution_count": 14,
   "metadata": {},
   "outputs": [
    {
     "name": "stdout",
     "output_type": "stream",
     "text": [
      "0.0 0.0 0 0 0\n",
      "true\n",
      "\n",
      "\n",
      "false\n"
     ]
    }
   ],
   "source": [
    "#bc.analyze_word_distribution(clean_train_data, train_labels)\n",
    "\n",
    "#übung_col = np.array([bool(re.search(\"(ue|ü| )bung \", text)) for text in clean_train_data])\n",
    "#übung_col = np.array([bool(re.search(\"(ue|ü| )?bersicht \", text)) for text in clean_train_data])\n",
    "#übung_col = np.array([bool(re.search(\"einf(ue|ü| )?hrung \", text)) for text in clean_train_data])\n",
    "übung_col = np.array([bool(re.search(\" [0-9]{4} pdf\", text)) for text in clean_train_data])\n",
    "übung_col = np.array([bool(re.search(\"pr(ae|ä| |e| 776 )sentation\", text)) for text in clean_train_data])\n",
    "übung_col = np.array([bool(re.search(\"(ue|ü| |( )?776 )bersicht\", text)) for text in clean_train_data])\n",
    "übung_col = np.array([bool(re.search(\"l(oe|ö| | 776 )sung \", text)) for text in clean_train_data])\n",
    "übung_col = np.array([bool(re.search(\"review\", text)) for text in clean_train_data])\n",
    "\n",
    "#print(clean_test_data)\n",
    "pos_cnt = np.sum(übung_col[train_labels==1])\n",
    "neg_cnt = np.sum(übung_col[train_labels==0])\n",
    "pos_perc = pos_cnt/np.sum(train_labels==1)\n",
    "neg_perc = neg_cnt/np.sum(train_labels==0)\n",
    "rel = max(pos_perc,neg_perc)/min(pos_perc,neg_perc) if min(pos_perc,neg_perc)>0 else 0\n",
    "print(pos_perc,neg_perc,rel,pos_cnt,neg_cnt)\n",
    "\n",
    "print(\"true\")\n",
    "fat = np.logical_and(train_labels==1,übung_col)\n",
    "for i in range(len(clean_train_data)):\n",
    "    if(fat[i]):\n",
    "        print(clean_train_data[i])\n",
    "\n",
    "print(\"\\n\")\n",
    "print(\"false\")\n",
    "faf = np.logical_and(train_labels==0,übung_col)\n",
    "for i in range(len(clean_train_data)):\n",
    "    if(faf[i]):\n",
    "        print(clean_train_data[i])\n",
    "\n",
    "a = '''\n",
    "einfuehrung\n",
    "sitzung\n",
    "übung\n",
    "vorlesung\n",
    "folien\n",
    "session\n",
    "präsentation\n",
    "course\n",
    "seminar\n",
    "gruppe\n",
    "handout\n",
    "lösung\n",
    "prüfung\n",
    "tutorium\n",
    "blatt\n",
    "'''\n"
   ]
  },
  {
   "cell_type": "code",
   "execution_count": null,
   "metadata": {
    "collapsed": true
   },
   "outputs": [],
   "source": [
    "# should probably be balanced everywhere -> way better recall\n",
    "\n",
    "first_100_words:{\"penalty\":'l2', \"C\":100, \"fit_intercept\":True, \"intercept_scaling\":1, \"class_weight\":\"balanced\",\n",
    "          \"solver\":\"liblinear\", \"max_iter\":10, \"tol\":0.01}\n",
    "last_100_words:{\"penalty\":'l2', \"C\":100, \"fit_intercept\":True, \"intercept_scaling\":1, \"class_weight\":\"balanced\",\n",
    "          \"solver\":\"liblinear\", \"max_iter\":10, \"tol\":0.01}\n",
    "creator:kwargs = {\"penalty\":'l2', \"C\":100, \"fit_intercept\":True, \"intercept_scaling\":1, \"class_weight\":None,\n",
    "          \"solver\":\"liblinear\", \"max_iter\":10, \"tol\":0.01}\n",
    "producer:kwargs = {\"penalty\":'l2', \"C\":100, \"fit_intercept\":True, \"intercept_scaling\":1, \"class_weight\":None,\n",
    "          \"solver\":\"liblinear\", \"max_iter\":10, \"tol\":0.01}\n",
    "bold:None\n",
    "filename:kwargs = {\"penalty\":'l2', \"C\":100, \"fit_intercept\":True, \"intercept_scaling\":1, \"class_weight\":None,\n",
    "      \"solver\":\"liblinear\", \"max_iter\":10, \"tol\":0.01}\n",
    "folder_name:kwargs = {\"penalty\":'l2', \"C\":10, \"fit_intercept\":True, \"intercept_scaling\":1, \"class_weight\":None,\n",
    "  \"solver\":\"liblinear\", \"max_iter\":100, \"tol\":0.01}"
   ]
  },
  {
   "cell_type": "code",
   "execution_count": null,
   "metadata": {
    "collapsed": true
   },
   "outputs": [],
   "source": []
  }
 ],
 "metadata": {
  "kernelspec": {
   "display_name": "Python 3",
   "language": "python",
   "name": "python3"
  },
  "language_info": {
   "codemirror_mode": {
    "name": "ipython",
    "version": 3
   },
   "file_extension": ".py",
   "mimetype": "text/x-python",
   "name": "python",
   "nbconvert_exporter": "python",
   "pygments_lexer": "ipython3",
   "version": "3.5.2"
  }
 },
 "nbformat": 4,
 "nbformat_minor": 2
}
